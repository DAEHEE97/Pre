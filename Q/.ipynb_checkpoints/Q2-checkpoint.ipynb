{
 "cells": [
  {
   "cell_type": "markdown",
   "id": "61f4675a",
   "metadata": {},
   "source": [
    "# Q2"
   ]
  },
  {
   "cell_type": "markdown",
   "id": "05e80cd0",
   "metadata": {},
   "source": [
    "---"
   ]
  },
  {
   "cell_type": "code",
   "execution_count": null,
   "id": "7e45277d",
   "metadata": {},
   "outputs": [],
   "source": [
    "class Company():\n",
    "    \n",
    "    def __init__(self, name):\n",
    "        \n",
    "        self.company_name = name\n",
    "        \n",
    "        "
   ]
  },
  {
   "cell_type": "code",
   "execution_count": null,
   "id": "5797e702",
   "metadata": {},
   "outputs": [],
   "source": [
    "naver = Company(\"naver\")"
   ]
  },
  {
   "cell_type": "code",
   "execution_count": null,
   "id": "5205a386",
   "metadata": {},
   "outputs": [],
   "source": [
    "naver"
   ]
  },
  {
   "cell_type": "code",
   "execution_count": null,
   "id": "72f8dded",
   "metadata": {},
   "outputs": [],
   "source": [
    "naver.company_name"
   ]
  },
  {
   "cell_type": "markdown",
   "id": "cfedac1e",
   "metadata": {},
   "source": [
    "---"
   ]
  },
  {
   "cell_type": "code",
   "execution_count": null,
   "id": "885312c6",
   "metadata": {},
   "outputs": [],
   "source": [
    " class Car (): \n",
    "    \n",
    "    # 생성자\n",
    "    def __init__(self):\n",
    "        self.model = \"BEN\" # model 변수 명\n",
    "\n",
    "    # method    \n",
    "    def change_model(self):\n",
    "        self.model = \"CAR\"\n",
    "    \n",
    "    def change_model_another (self):\n",
    "        self.model = \"TRUCK\"\n"
   ]
  },
  {
   "cell_type": "code",
   "execution_count": null,
   "id": "bcf07f15",
   "metadata": {},
   "outputs": [],
   "source": [
    "car = Car()"
   ]
  },
  {
   "cell_type": "code",
   "execution_count": null,
   "id": "4beea36a",
   "metadata": {},
   "outputs": [],
   "source": [
    "car.model"
   ]
  },
  {
   "cell_type": "code",
   "execution_count": null,
   "id": "c1de0e7d",
   "metadata": {},
   "outputs": [],
   "source": [
    "car.change_model_another()"
   ]
  },
  {
   "cell_type": "code",
   "execution_count": null,
   "id": "1175edbd",
   "metadata": {},
   "outputs": [],
   "source": [
    "car.model"
   ]
  },
  {
   "cell_type": "code",
   "execution_count": null,
   "id": "deb9fea3",
   "metadata": {},
   "outputs": [],
   "source": [
    "car.change_model()"
   ]
  },
  {
   "cell_type": "code",
   "execution_count": null,
   "id": "c1b9cb92",
   "metadata": {},
   "outputs": [],
   "source": [
    "car.model"
   ]
  },
  {
   "cell_type": "code",
   "execution_count": null,
   "id": "846c55a4",
   "metadata": {},
   "outputs": [],
   "source": [
    "car"
   ]
  },
  {
   "cell_type": "markdown",
   "id": "38faa9b3",
   "metadata": {},
   "source": [
    "---"
   ]
  },
  {
   "cell_type": "code",
   "execution_count": null,
   "id": "251fd9ce",
   "metadata": {},
   "outputs": [],
   "source": [
    "class House():\n",
    "    \n",
    "    def __init__(self):\n",
    "        self.door = []"
   ]
  },
  {
   "cell_type": "code",
   "execution_count": null,
   "id": "083de9a0",
   "metadata": {},
   "outputs": [],
   "source": [
    "h = House()"
   ]
  },
  {
   "cell_type": "code",
   "execution_count": null,
   "id": "e3441f5e",
   "metadata": {},
   "outputs": [],
   "source": [
    "h"
   ]
  },
  {
   "cell_type": "code",
   "execution_count": null,
   "id": "f81e401d",
   "metadata": {},
   "outputs": [],
   "source": [
    "h.door.append(3)"
   ]
  },
  {
   "cell_type": "code",
   "execution_count": null,
   "id": "48f03867",
   "metadata": {},
   "outputs": [],
   "source": [
    "h.door"
   ]
  },
  {
   "cell_type": "code",
   "execution_count": null,
   "id": "79f23fc2",
   "metadata": {},
   "outputs": [],
   "source": [
    "# 생성자의 door 변수를 private 변수로 변경\n",
    "class House2():\n",
    "    \n",
    "    def __init__(self):\n",
    "        self.__door = [] #private 처리\n",
    "        self.k = 3"
   ]
  },
  {
   "cell_type": "code",
   "execution_count": null,
   "id": "d80c0842",
   "metadata": {},
   "outputs": [],
   "source": [
    "h2 = House2()"
   ]
  },
  {
   "cell_type": "code",
   "execution_count": null,
   "id": "c1f1eb91",
   "metadata": {},
   "outputs": [],
   "source": [
    "h2.k"
   ]
  },
  {
   "cell_type": "markdown",
   "id": "90e53ec5",
   "metadata": {},
   "source": [
    "---"
   ]
  },
  {
   "cell_type": "code",
   "execution_count": null,
   "id": "74b8e035",
   "metadata": {},
   "outputs": [],
   "source": [
    "class Person():\n",
    "    \n",
    "    def __init__(self):\n",
    "        self.name = 'SJ'\n",
    "        self.age = 20\n",
    "\n",
    "        \n",
    "class Player (Person):\n",
    "    pass\n",
    "\n",
    "the_player = Player()\n",
    "\n",
    "print (the_player.name)"
   ]
  },
  {
   "cell_type": "markdown",
   "id": "086f995d",
   "metadata": {},
   "source": [
    "---"
   ]
  },
  {
   "cell_type": "code",
   "execution_count": null,
   "id": "8381ce5e",
   "metadata": {},
   "outputs": [],
   "source": [
    "for i in range (3):\n",
    "    \n",
    "    res_list = []\n",
    "    \n",
    "    try:\n",
    "        result = 10 / i\n",
    "        print (result)\n",
    "        res_list.append(result)\n",
    "        \n",
    "    except ZeroDivisionError:\n",
    "        print (\"Not divided by 0\")"
   ]
  }
 ],
 "metadata": {
  "kernelspec": {
   "display_name": "Python 3 (ipykernel)",
   "language": "python",
   "name": "python3"
  },
  "language_info": {
   "codemirror_mode": {
    "name": "ipython",
    "version": 3
   },
   "file_extension": ".py",
   "mimetype": "text/x-python",
   "name": "python",
   "nbconvert_exporter": "python",
   "pygments_lexer": "ipython3",
   "version": "3.8.16"
  },
  "toc": {
   "base_numbering": 1,
   "nav_menu": {},
   "number_sections": true,
   "sideBar": true,
   "skip_h1_title": false,
   "title_cell": "Table of Contents",
   "title_sidebar": "Contents",
   "toc_cell": false,
   "toc_position": {},
   "toc_section_display": true,
   "toc_window_display": false
  },
  "varInspector": {
   "cols": {
    "lenName": 16,
    "lenType": 16,
    "lenVar": 40
   },
   "kernels_config": {
    "python": {
     "delete_cmd_postfix": "",
     "delete_cmd_prefix": "del ",
     "library": "var_list.py",
     "varRefreshCmd": "print(var_dic_list())"
    },
    "r": {
     "delete_cmd_postfix": ") ",
     "delete_cmd_prefix": "rm(",
     "library": "var_list.r",
     "varRefreshCmd": "cat(var_dic_list()) "
    }
   },
   "types_to_exclude": [
    "module",
    "function",
    "builtin_function_or_method",
    "instance",
    "_Feature"
   ],
   "window_display": false
  }
 },
 "nbformat": 4,
 "nbformat_minor": 5
}
