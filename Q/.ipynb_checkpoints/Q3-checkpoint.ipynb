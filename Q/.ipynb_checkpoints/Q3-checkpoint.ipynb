{
 "cells": [
  {
   "cell_type": "markdown",
   "id": "7cd072ea",
   "metadata": {},
   "source": [
    "## 다음 벡터의 L1-노름을 구하시오 (정수값으로 입력).\n",
    "\n",
    "    x = [-1, 2, -3]"
   ]
  },
  {
   "cell_type": "markdown",
   "id": "d6802f56",
   "metadata": {},
   "source": [
    "벡터의 L1-노름은 각 원소의 절댓값을 모두 더한 값입니다. \n",
    "\n",
    "L1-노름 = |x[0]| + |x[1]| + |x[2]| = |(-1)| + |2| + |(-3)| = 1 + 2 + 3 = 6\n",
    "\n",
    "따라서 주어진 벡터 x의 L1-노름은 6입니다."
   ]
  },
  {
   "cell_type": "markdown",
   "id": "1cf6e613",
   "metadata": {},
   "source": [
    "---"
   ]
  },
  {
   "cell_type": "markdown",
   "id": "2c17c4e3",
   "metadata": {},
   "source": [
    "## 다음 벡터의 L2-노름을 구하시오 (정수값으로 입력).\n",
    "\n",
    "    x = [-6, -8]"
   ]
  },
  {
   "cell_type": "markdown",
   "id": "abe59588",
   "metadata": {},
   "source": [
    "벡터의 L2-노름은 각 원소의 제곱을 더한 후 제곱근을 취한 값입니다. \n",
    "\n",
    "L2-노름 = √((-6)^2 + (-8)^2) = √(36 + 64) = √100 = 10\n",
    "\n",
    "따라서 주어진 벡터 x의 L2-노름은 10입니다."
   ]
  },
  {
   "cell_type": "markdown",
   "id": "f132b852",
   "metadata": {},
   "source": [
    "---"
   ]
  },
  {
   "cell_type": "markdown",
   "id": "62c66e45",
   "metadata": {},
   "source": [
    "## L2-노름을 이용하여 다음 두 벡터 사이의 거리를 구하시오 (정수값으로 입력).\n",
    "\n",
    "     x = [-3, 0]\n",
    "     y = [0, 4]\n",
    "     "
   ]
  },
  {
   "cell_type": "markdown",
   "id": "33ac241d",
   "metadata": {},
   "source": [
    "두 벡터 사이의 거리를 L2-노름을 사용하여 구할 수 있습니다. \n",
    "\n",
    "벡터 x와 벡터 y 사이의 거리는 다음과 같이 계산됩니다.\n",
    "\n",
    "거리 = ||x - y|| = ||[-3, 0] - [0, 4]|| = ||[-3, -4]||\n",
    "\n",
    "L2-노름을 이용하여 계산하면 다음과 같습니다.\n",
    "\n",
    "거리 = √((-3)^2 + (-4)^2) = √(9 + 16) = √25 = 5\n",
    "\n",
    "따라서 두 벡터 x와 y 사이의 거리는 5입니다."
   ]
  },
  {
   "cell_type": "markdown",
   "id": "6df5d4c2",
   "metadata": {},
   "source": [
    "---"
   ]
  },
  {
   "cell_type": "markdown",
   "id": "4b430e09",
   "metadata": {},
   "source": [
    "## 다음 두 벡터 사이의 각도를 구하시오 (라디안 단위: 0 이상, 7 미만의 정수값으로 입력)\n",
    " \n",
    "     x = [0, 1]\n",
    "     y = [0, 2]"
   ]
  },
  {
   "cell_type": "markdown",
   "id": "2f2e223c",
   "metadata": {},
   "source": [
    "두 벡터의 각도를 구하기 위해서는 다음과 같은 공식을 사용할 수 있습니다.\n",
    "\n",
    "각도(라디안) = arccos((x · y) / (||x|| * ||y||))\n",
    "\n",
    "여기서 x · y는 두 벡터의 내적이고, ||x||와 ||y||는 각각 벡터 x와 벡터 y의 L2-노름(벡터의 길이)입니다.\n",
    "\n",
    "먼저, 벡터 x와 벡터 y의 내적을 구합니다.\n",
    "\n",
    "x · y = (0 * 0) + (1 * 2) = 0 + 2 = 2\n",
    "\n",
    "그 다음, 벡터 x와 벡터 y의 L2-노름을 구합니다.\n",
    "\n",
    "||x|| = √(0^2 + 1^2) = √1 = 1\n",
    "||y|| = √(0^2 + 2^2) = √4 = 2\n",
    "\n",
    "이제 공식에 값을 대입하여 각도를 계산합니다.\n",
    "\n",
    "각도(라디안) = arccos(2 / (1 * 2)) = arccos(1) = 0 라디안\n",
    "\n",
    "따라서 두 벡터 x와 y 사이의 각도는 0 라디안입니다.\n"
   ]
  },
  {
   "cell_type": "markdown",
   "id": "30712d95",
   "metadata": {},
   "source": [
    "---"
   ]
  },
  {
   "cell_type": "markdown",
   "id": "c0d2c108",
   "metadata": {},
   "source": [
    "## 다음 두 벡터 ( xx ,  yy )의 내적을 구하시오\n",
    "\n",
    "    x = [1, -1, 1, -1]\n",
    "    y = [4, -4, 4, -4]"
   ]
  },
  {
   "cell_type": "markdown",
   "id": "b0801fc2",
   "metadata": {},
   "source": [
    "\n",
    "주어진 내적 정의에 따라 두 벡터 x와 y의 내적을 구하는 공식은 다음과 같습니다.\n",
    "\n",
    "<x, y> = ||x||₂ ||y||₂ cos(θ)\n",
    "\n",
    "여기서 ||x||₂는 벡터 x의 L2-노름(벡터의 길이), ||y||₂는 벡터 y의 L2-노름, 그리고 θ는 두 벡터 사이의 각도입니다.\n",
    "\n",
    "두 벡터 x와 y가 다음과 같이 주어졌습니다.\n",
    "\n",
    "x = [1, -1, 1, -1]\n",
    "y = [4, -4, 4, -4]\n",
    "\n",
    "먼저, 각 벡터의 L2-노름을 계산합니다.\n",
    "\n",
    "||x||₂ = √(1^2 + (-1)^2 + 1^2 + (-1)^2) = √(1 + 1 + 1 + 1) = √4 = 2\n",
    "||y||₂ = √(4^2 + (-4)^2 + 4^2 + (-4)^2) = √(16 + 16 + 16 + 16) = √64 = 8\n",
    "\n",
    "이제 두 벡터의 내적을 구하기 위해 각도(θ)를 계산해야 합니다. \n",
    "\n",
    "이전 답변에서 이미 계산한 것처럼, 두 벡터 사이의 각도(θ)는 0 라디안입니다.\n",
    "\n",
    "따라서 내적을 구하는 공식에 값을 대입하여 계산합니다.\n",
    "\n",
    "<x, y> = ||x||₂ ||y||₂ cos(θ) = 2 * 8 * cos(0) = 2 * 8 * 1 = 16\n",
    "\n",
    "따라서 두 벡터 x와 y의 내적은 16입니다."
   ]
  },
  {
   "cell_type": "markdown",
   "id": "aff704f0",
   "metadata": {},
   "source": [
    "---"
   ]
  },
  {
   "cell_type": "markdown",
   "id": "cc341781",
   "metadata": {},
   "source": [
    "##  함수의 극소값의 위치를 구할 때 사용하는 방법 : 경사하강법"
   ]
  },
  {
   "cell_type": "markdown",
   "id": "a9696bc7",
   "metadata": {},
   "source": [
    "---"
   ]
  },
  {
   "cell_type": "markdown",
   "id": "f446944c",
   "metadata": {},
   "source": [
    "## $f(x, y, z)$ 의 올바른 그래디언트 벡터\n",
    "\n",
    "함수 $f(x, y, z) = 9x^2 + 5y^3 - 3z$의 그래디언트 벡터를 구하면 각 변수 x, y, z에 대한 편도함수를 계산하여 다음과 같이 나타낼 수 있습니다:\n",
    "\n",
    "$f(x, y, z) = [∂f/∂x, ∂f/∂y, ∂f/∂z]$\n",
    "\n",
    "1. ∂f/∂x: x에 대한 편도함수\n",
    "   ∂f/∂x = 18x\n",
    "\n",
    "2. ∂f/∂y: y에 대한 편도함수\n",
    "   ∂f/∂y = 15y^2\n",
    "\n",
    "3. ∂f/∂z: z에 대한 편도함수\n",
    "   ∂f/∂z = -3\n",
    "\n",
    "따라서 함수 f(x, y, z)의 올바른 그래디언트 벡터는 [18x, 15y^2, -3]입니다."
   ]
  },
  {
   "cell_type": "markdown",
   "id": "07b8f84b",
   "metadata": {},
   "source": [
    "---"
   ]
  },
  {
   "cell_type": "markdown",
   "id": "173bf063",
   "metadata": {},
   "source": [
    "##"
   ]
  },
  {
   "cell_type": "markdown",
   "id": "f66e27ad",
   "metadata": {},
   "source": [
    "---"
   ]
  },
  {
   "cell_type": "markdown",
   "id": "e30fa752",
   "metadata": {},
   "source": [
    "##"
   ]
  }
 ],
 "metadata": {
  "kernelspec": {
   "display_name": "Python 3 (ipykernel)",
   "language": "python",
   "name": "python3"
  },
  "language_info": {
   "codemirror_mode": {
    "name": "ipython",
    "version": 3
   },
   "file_extension": ".py",
   "mimetype": "text/x-python",
   "name": "python",
   "nbconvert_exporter": "python",
   "pygments_lexer": "ipython3",
   "version": "3.8.16"
  },
  "toc": {
   "base_numbering": 1,
   "nav_menu": {},
   "number_sections": true,
   "sideBar": true,
   "skip_h1_title": false,
   "title_cell": "Table of Contents",
   "title_sidebar": "Contents",
   "toc_cell": false,
   "toc_position": {},
   "toc_section_display": true,
   "toc_window_display": false
  },
  "varInspector": {
   "cols": {
    "lenName": 16,
    "lenType": 16,
    "lenVar": 40
   },
   "kernels_config": {
    "python": {
     "delete_cmd_postfix": "",
     "delete_cmd_prefix": "del ",
     "library": "var_list.py",
     "varRefreshCmd": "print(var_dic_list())"
    },
    "r": {
     "delete_cmd_postfix": ") ",
     "delete_cmd_prefix": "rm(",
     "library": "var_list.r",
     "varRefreshCmd": "cat(var_dic_list()) "
    }
   },
   "types_to_exclude": [
    "module",
    "function",
    "builtin_function_or_method",
    "instance",
    "_Feature"
   ],
   "window_display": false
  }
 },
 "nbformat": 4,
 "nbformat_minor": 5
}
