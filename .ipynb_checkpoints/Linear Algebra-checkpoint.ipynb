{
 "cells": [
  {
   "cell_type": "markdown",
   "id": "87f75d28",
   "metadata": {},
   "source": [
    "---"
   ]
  },
  {
   "cell_type": "markdown",
   "id": "b122a465",
   "metadata": {},
   "source": [
    "- 선형방정식(Linear Equation)\n",
    "\n",
    "- 선형시스템(Linear System)\n",
    "\n",
    "- 항등 행렬(Identity Matrix)\n",
    "\n",
    "- 역행렬(Inverse Matrix)\n",
    "\n",
    "- 계수(Coefficient), 가중치(Weight) "
   ]
  },
  {
   "cell_type": "markdown",
   "id": "19b4b567",
   "metadata": {},
   "source": [
    "---"
   ]
  },
  {
   "cell_type": "markdown",
   "id": "30807065",
   "metadata": {},
   "source": [
    "## Linear Combination (선형 결합)\n",
    "\n",
    "두 개 이상의 벡터 $\\mathbf{v}_1, \\mathbf{v}_2, \\ldots, \\mathbf{v}_p$ 가 실수 벡터 공간 $\\mathbb{R}^n$ 내에 주어졌다고 가정하고, $c_1, c_2, \\ldots, c_p$ 라는 스칼라(실수) 값이 주어졌다고 가정합니다. \n",
    "\n",
    "이 때, 다음과 같이 표현할 수 있습니다:\n",
    "\n",
    ">$c_1\\mathbf{v}_1 + c_2\\mathbf{v}_2 + \\ldots + c_p\\mathbf{v}_p$\n",
    "\n",
    "이를 \"$\\mathbf{v}_1, \\ldots, \\mathbf{v}_p$ 에 대한 Weight(가중치) 또는 Coefficient(계수) $c_1, \\ldots, c_p$ 로 이루어진 선형 결함(linear combination)\"이라고 합니다. \n",
    "\n",
    "이것은 각 벡터 $\\mathbf{v}_i$가 상응하는 가중치 $c_i$ 와 곱해진 후 그 결과들이 모두 더해져서 만들어지는 새로운 벡터 또는 점을 나타냅니다.\n",
    "\n",
    "\n",
    "- The weights in a linear combination can be any real numbers, including zero."
   ]
  },
  {
   "cell_type": "markdown",
   "id": "6e205585",
   "metadata": {},
   "source": [
    "---"
   ]
  },
  {
   "cell_type": "markdown",
   "id": "60d8ca1d",
   "metadata": {},
   "source": [
    "## Span\n",
    "\n",
    "Span (스팬)은 주어진 벡터들 v1, ⋯, v𝑝 ∈ R𝑛의 집합에 대한 개념으로, 이것은 v1, ⋯, v𝑝의 모든 선형 결합(Linear Combination) 으로 정의됩니다. \n",
    "\n",
    "다시 말해, Span {v1, ⋯, v𝑝}는 임의의 스칼라 c1, ⋯, c𝑝와 함께 다음과 같은 형태로 표현될 수 있는 **모든 벡터의 집합**입니다.\n",
    "\n",
    "> c1v1 + c2v2 + ⋯ + c𝑝v𝑝\n",
    "\n",
    "여기서 c1, ⋯, c𝑝는 임의의 실수 스칼라입니다. \n",
    "\n",
    "따라서 이것은 v1, ⋯, v𝑝에 의해 생성되는 벡터의 공간이라고 생각할 수 있습니다.\n",
    "\n",
    "'Span{v1, ⋯, v𝑝}'은 또한 v1, ⋯, v𝑝에 의해 생성되는 R𝑛의 부분집합이라고도 합니다. \n",
    "\n",
    "즉, v1, ⋯, v𝑝로 생성될 수 있는 모든 벡터의 집합을 나타냅니다. \n"
   ]
  },
  {
   "cell_type": "markdown",
   "id": "393ea38e",
   "metadata": {},
   "source": [
    "---"
   ]
  },
  {
   "cell_type": "markdown",
   "id": "3d9f0494",
   "metadata": {},
   "source": [
    "### Geometric Description of Span\n"
   ]
  },
  {
   "cell_type": "markdown",
   "id": "716f16a9",
   "metadata": {},
   "source": [
    "---"
   ]
  },
  {
   "cell_type": "markdown",
   "id": "25620fc1",
   "metadata": {},
   "source": [
    "### Geometric Interpretation of Vector Equation\n",
    "\n",
    "주어진 벡터들 𝐚1, 𝐚2, 𝐚3와 벡터 𝐛 사이에 선형 결합을 찾는 것은 다음과 같은 방정식을 푸는 것을 의미합니다.\n",
    "\n",
    "𝐚1𝑥1 + 𝐚2𝑥2 + 𝐚3𝑥3 = 𝐛\n",
    "\n",
    "여기서 𝑥1, 𝑥2, 𝑥3는 찾고자 하는 스칼라 값입니다. \n",
    "\n",
    "이러한 선형 결합을 찾을 수 있는 경우, 벡터 𝐛는 벡터들 𝐚1, 𝐚2, 𝐚3의 Span에 속합니다.\n",
    "\n",
    "Span {𝐚1, 𝐚2, 𝐚3}는 벡터들 𝐚1, 𝐚2, 𝐚3으로 생성되는 모든 벡터의 집합입니다. \n",
    "\n",
    "따라서 벡터 𝐛가 Span {𝐚1, 𝐚2, 𝐚3}에 속한다는 것은 벡터 𝐛가 𝐚1, 𝐚2, 𝐚3의 선형 결합으로 표현될 수 있는 경우에 해당합니다.\n",
    "\n",
    "만약 벡터 𝐛가 Span {𝐚1, 𝐚2, 𝐚3}에 속하지 않는다면, 이러한 선형 결합을 찾을 수 없을 것이며, 주어진 벡터들로 벡터 𝐛를 생성할 수 없다는 의미입니다.\n",
    "\n",
    "- The solution exists only when 𝐛 ∈ Span{𝐚1,𝐚2,𝐚3}"
   ]
  },
  {
   "cell_type": "markdown",
   "id": "2de6b1e3",
   "metadata": {},
   "source": [
    "---"
   ]
  },
  {
   "cell_type": "markdown",
   "id": "0af92d78",
   "metadata": {},
   "source": [
    "## Matrix Multiplications (행렬의 곱셈)\n"
   ]
  },
  {
   "cell_type": "markdown",
   "id": "84c8c3f5",
   "metadata": {},
   "source": [
    "---"
   ]
  },
  {
   "cell_type": "markdown",
   "id": "13c318c9",
   "metadata": {},
   "source": [
    " ### inner product\n",
    " \n",
    " ### column combination\n",
    " - 결과 행렬의 각 열은 두 입력 행렬의 열들의 선형 결합으로 형성됩니다. \n",
    " - Left matrix: bases, right matrix: coefficients\n",
    " \n",
    " ### row combination\n",
    " \n",
    " ### sum of rank-1 outer products\n",
    " - Covariance matrix in multivariate Gaussian\n",
    " - Gram matrix in style transfer"
   ]
  },
  {
   "cell_type": "markdown",
   "id": "9fc35173",
   "metadata": {},
   "source": [
    "---"
   ]
  },
  {
   "cell_type": "markdown",
   "id": "133712b1",
   "metadata": {},
   "source": [
    "- 선형독립(Linear Independence)\n",
    "- 선형종속(Linear Dependence)"
   ]
  },
  {
   "cell_type": "markdown",
   "id": "8840be7f",
   "metadata": {},
   "source": [
    "---"
   ]
  },
  {
   "cell_type": "markdown",
   "id": "1227723f",
   "metadata": {},
   "source": [
    "- 부분공간(Subspace)\n",
    "- 기저(Basis)와 차원(Dimension)\n",
    "- 계수(Rank) "
   ]
  },
  {
   "cell_type": "markdown",
   "id": "e55e9a63",
   "metadata": {},
   "source": [
    "---"
   ]
  },
  {
   "cell_type": "markdown",
   "id": "a37c4965",
   "metadata": {},
   "source": [
    "- 선형변환(Linear Transformation)"
   ]
  }
 ],
 "metadata": {
  "kernelspec": {
   "display_name": "Python 3 (ipykernel)",
   "language": "python",
   "name": "python3"
  },
  "language_info": {
   "codemirror_mode": {
    "name": "ipython",
    "version": 3
   },
   "file_extension": ".py",
   "mimetype": "text/x-python",
   "name": "python",
   "nbconvert_exporter": "python",
   "pygments_lexer": "ipython3",
   "version": "3.8.16"
  },
  "toc": {
   "base_numbering": 1,
   "nav_menu": {},
   "number_sections": true,
   "sideBar": true,
   "skip_h1_title": false,
   "title_cell": "Table of Contents",
   "title_sidebar": "Contents",
   "toc_cell": false,
   "toc_position": {},
   "toc_section_display": true,
   "toc_window_display": false
  },
  "varInspector": {
   "cols": {
    "lenName": 16,
    "lenType": 16,
    "lenVar": 40
   },
   "kernels_config": {
    "python": {
     "delete_cmd_postfix": "",
     "delete_cmd_prefix": "del ",
     "library": "var_list.py",
     "varRefreshCmd": "print(var_dic_list())"
    },
    "r": {
     "delete_cmd_postfix": ") ",
     "delete_cmd_prefix": "rm(",
     "library": "var_list.r",
     "varRefreshCmd": "cat(var_dic_list()) "
    }
   },
   "types_to_exclude": [
    "module",
    "function",
    "builtin_function_or_method",
    "instance",
    "_Feature"
   ],
   "window_display": false
  }
 },
 "nbformat": 4,
 "nbformat_minor": 5
}
