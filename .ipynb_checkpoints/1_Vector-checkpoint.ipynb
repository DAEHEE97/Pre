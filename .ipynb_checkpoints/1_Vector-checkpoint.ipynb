{
 "cells": [
  {
   "cell_type": "markdown",
   "id": "cd3889be",
   "metadata": {},
   "source": [
    "# Vector"
   ]
  },
  {
   "cell_type": "markdown",
   "id": "dd2e747b",
   "metadata": {},
   "source": [
    "---"
   ]
  },
  {
   "cell_type": "markdown",
   "id": "547c8f75",
   "metadata": {},
   "source": [
    "- 벡터는 숫자를 원소로 가지는 리스트(list) 또는 배열(array)입니다\n",
    "\n",
    "- 벡터는 공간에서 한 점을 나타냅니다\n",
    "\n",
    "- 벡터는 원점으로부터 상대적 위치를 표현합니다\n",
    "\n"
   ]
  },
  {
   "cell_type": "markdown",
   "id": "d767c02f",
   "metadata": {},
   "source": [
    "---"
   ]
  },
  {
   "cell_type": "markdown",
   "id": "eb0fc822",
   "metadata": {},
   "source": [
    "-  벡터 연산\n",
    "\n",
    "- 벡터에 숫자를 곱해주면 길이만 변합니다 : 스칼라 곱 "
   ]
  },
  {
   "cell_type": "markdown",
   "id": "b169a663",
   "metadata": {},
   "source": [
    "- 벡터끼리 같은 모양을 가지면(차원이 같으면) 덧셈, 뺄셈을 계산할 수 있습니다.\n",
    "\n",
    "- 두 벡터의 덧셈은 다른 벡터로부터 상대적 위치이동을 표현합니다\n",
    "\n",
    "- 벡터끼리 같은 모양을 가지면(차원이 같으면) 성분곱(Hadamard product)을 계산할 수 있다."
   ]
  },
  {
   "cell_type": "markdown",
   "id": "eb2c6277",
   "metadata": {},
   "source": [
    "---"
   ]
  },
  {
   "cell_type": "code",
   "execution_count": 1,
   "id": "e273fd87",
   "metadata": {},
   "outputs": [],
   "source": [
    "import numpy as np\n",
    "\n",
    "x = np.array([1,7,2])\n",
    "y = np.array([5,2,1])"
   ]
  },
  {
   "cell_type": "code",
   "execution_count": 2,
   "id": "b672fbe4",
   "metadata": {},
   "outputs": [
    {
     "data": {
      "text/plain": [
       "array([6, 9, 3])"
      ]
     },
     "execution_count": 2,
     "metadata": {},
     "output_type": "execute_result"
    }
   ],
   "source": [
    "x + y"
   ]
  },
  {
   "cell_type": "code",
   "execution_count": 3,
   "id": "b197309a",
   "metadata": {},
   "outputs": [
    {
     "data": {
      "text/plain": [
       "array([-4,  5,  1])"
      ]
     },
     "execution_count": 3,
     "metadata": {},
     "output_type": "execute_result"
    }
   ],
   "source": [
    "x - y"
   ]
  },
  {
   "cell_type": "code",
   "execution_count": 4,
   "id": "cfb02307",
   "metadata": {},
   "outputs": [
    {
     "data": {
      "text/plain": [
       "array([ 5, 14,  2])"
      ]
     },
     "execution_count": 4,
     "metadata": {},
     "output_type": "execute_result"
    }
   ],
   "source": [
    "# 성분곱 (Hadamard product)\n",
    "x * y"
   ]
  },
  {
   "cell_type": "markdown",
   "id": "fa4ba75d",
   "metadata": {},
   "source": [
    "---"
   ]
  },
  {
   "cell_type": "markdown",
   "id": "2a486bad",
   "metadata": {},
   "source": [
    "# Norm\n",
    "\n",
    "- 벡터의 노름(norm)은 원점에서부터의 거리 를 말합니다. (임의의 차원 d 에 대해 성립하는 것을 명심)\n",
    "\n",
    "- L1-노름은 각 성분의 **변화량의 절대값** 을 모두 더 합니다.\n",
    "\n",
    "- L2-노름은 **피타고라스 정리**를 이용해 유클리드 거리를 계산합니다\n",
    "\n",
    "- 노름의 종류에 따라 기하학적 성질이 달라집니다, 각 성질들이 필요할 때가 있으므로 둘 다 사용 합니다."
   ]
  },
  {
   "cell_type": "markdown",
   "id": "743b5da3",
   "metadata": {},
   "source": [
    "---"
   ]
  },
  {
   "cell_type": "code",
   "execution_count": 7,
   "id": "4ee93582",
   "metadata": {},
   "outputs": [],
   "source": [
    "def l1_norm(x):\n",
    "    \n",
    "    x_norm = np.abs(x) # 각 성분의 **변화량의 절대값**\n",
    "    x_norm = np.sum(x_norm) # 모두 더 합니다.\n",
    "    \n",
    "    return x_norm"
   ]
  },
  {
   "cell_type": "code",
   "execution_count": 8,
   "id": "33c7bd5e",
   "metadata": {},
   "outputs": [],
   "source": [
    "x = np.array([3,4])"
   ]
  },
  {
   "cell_type": "code",
   "execution_count": 9,
   "id": "cbcf4ffa",
   "metadata": {},
   "outputs": [
    {
     "data": {
      "text/plain": [
       "7"
      ]
     },
     "execution_count": 9,
     "metadata": {},
     "output_type": "execute_result"
    }
   ],
   "source": [
    "l1_norm(x)"
   ]
  },
  {
   "cell_type": "code",
   "execution_count": 11,
   "id": "c31ffc16",
   "metadata": {},
   "outputs": [],
   "source": [
    "def l2_norm(x):\n",
    "    \n",
    "    x_norm = x*x # 1-1) 성분 곱\n",
    "    \n",
    "    x_norm = np.sum(x_norm) # 1-2) 더한 다음\n",
    "    \n",
    "    x_norm = np.sqrt(x_norm) # 1-3) 루트 \n",
    "    \n",
    "    return x_norm"
   ]
  },
  {
   "cell_type": "code",
   "execution_count": 12,
   "id": "3795dd07",
   "metadata": {},
   "outputs": [
    {
     "data": {
      "text/plain": [
       "5.0"
      ]
     },
     "execution_count": 12,
     "metadata": {},
     "output_type": "execute_result"
    }
   ],
   "source": [
    "l2_norm(x)"
   ]
  },
  {
   "cell_type": "code",
   "execution_count": 10,
   "id": "3bb5deb6",
   "metadata": {},
   "outputs": [
    {
     "data": {
      "text/plain": [
       "5.0"
      ]
     },
     "execution_count": 10,
     "metadata": {},
     "output_type": "execute_result"
    }
   ],
   "source": [
    "np.linalg.norm(x)"
   ]
  },
  {
   "cell_type": "markdown",
   "id": "fb367066",
   "metadata": {},
   "source": [
    "---"
   ]
  },
  {
   "cell_type": "markdown",
   "id": "b258531a",
   "metadata": {},
   "source": [
    "# 두 벡터 사이의 거리, 각도\n",
    "\n",
    "- 두 벡터 사이의 거리를 계산할 때는 벡터의 뺄셈을 이용, |x-y| == |y-x| \n",
    "\n",
    "- 제2 코사인 법칙에 의해 두 벡터 사이의 각도"
   ]
  },
  {
   "cell_type": "markdown",
   "id": "7a761101",
   "metadata": {},
   "source": [
    "---"
   ]
  },
  {
   "cell_type": "markdown",
   "id": "49e550ec",
   "metadata": {},
   "source": [
    "- 제2 코사인 법칙(The Second Law of Cosines)은 삼각학에서 사용되는 공식 중 하나로, 두 벡터 간의 각도를 계산하는 데 사용됩니다. \n",
    "\n",
    "- 특히, 두 벡터 A와 B 사이의 각도를 계산하는 데에 내적이 사용됩니다.\n",
    "\n",
    "제2 코사인 법칙은 다음과 같이 표현됩니다:\n",
    "\n",
    "\\[||A - B||^2 = ||A||^2 + ||B||^2 - 2||A|| * ||B|| * \\cos(\\theta)\\]\n",
    "\n",
    "여기서,\n",
    "- \\(||A - B||\\)는 벡터 A와 B 사이의 거리(norm)입니다.\n",
    "- \\(||A||\\)는 벡터 A의 크기(norm)를 나타냅니다.\n",
    "- \\(||B||\\)는 벡터 B의 크기(norm)를 나타냅니다.\n",
    "- \\(\\theta\\)는 A와 B 사이의 각도입니다.\n",
    "\n",
    "이제 내적을 사용하여 이 공식을 유도해보겠습니다. 우선, 내적의 정의를 다시 상기해 봅시다.\n",
    "\n",
    "두 벡터 A와 B의 내적은 다음과 같이 표현됩니다:\n",
    "\n",
    "\\[A \\cdot B = ||A|| * ||B|| * \\cos(\\theta)\\]\n",
    "\n",
    "여기서,\n",
    "- \\(A \\cdot B\\)는 A와 B의 내적입니다.\n",
    "- \\(||A||\\)는 벡터 A의 크기(norm)를 나타냅니다.\n",
    "- \\(||B||\\)는 벡터 B의 크기(norm)를 나타냅니다.\n",
    "- \\(\\theta\\)는 A와 B 사이의 각도입니다.\n",
    "\n",
    "이제 제2 코사인 법칙을 내적을 사용하여 표현해 봅시다. 우리는 벡터 A와 B 사이의 거리(norm)를 다음과 같이 정의할 수 있습니다:\n",
    "\n",
    "\\[||A - B|| = \\sqrt{(A - B) \\cdot (A - B)}\\]\n",
    "\n",
    "여기서, \\((A - B) \\cdot (A - B)\\)는 벡터 (A - B)와 자기 자신의 내적을 나타냅니다.\n",
    "\n",
    "제2 코사인 법칙의 공식에서 \\(||A - B||^2\\)을 \\((A - B) \\cdot (A - B)\\)로 대체하면 다음과 같이 됩니다:\n",
    "\n",
    "\\[(A - B) \\cdot (A - B) = ||A||^2 + ||B||^2 - 2||A|| * ||B|| * \\cos(\\theta)\\]\n",
    "\n",
    "여기서 우리는 벡터 A와 B 사이의 각도 \\(\\theta\\)를 구할 수 있는데, 이 각도는 내적을 사용하여 계산한 것입니다. 이제 제2 코사인 법칙을 사용하여 두 벡터 사이의 각도 \\(\\theta\\)를 구할 수 있습니다.\n"
   ]
  },
  {
   "cell_type": "markdown",
   "id": "b80c8345",
   "metadata": {},
   "source": [
    "---"
   ]
  },
  {
   "cell_type": "code",
   "execution_count": 14,
   "id": "1c7a00a6",
   "metadata": {},
   "outputs": [],
   "source": [
    "def angle(x ,y):\n",
    "    \n",
    "    v = np.inner(x, y) / (l2_norm(x) + l2_norm(y))\n",
    "\n",
    "    theta = np.arccos(v)\n",
    "    \n",
    "    return theta"
   ]
  },
  {
   "cell_type": "code",
   "execution_count": 16,
   "id": "cde7df9d",
   "metadata": {},
   "outputs": [],
   "source": [
    "x = np.array([3,4])\n",
    "\n",
    "y = np.array([1,0])"
   ]
  },
  {
   "cell_type": "code",
   "execution_count": 17,
   "id": "530ceac5",
   "metadata": {},
   "outputs": [
    {
     "data": {
      "text/plain": [
       "1.0471975511965976"
      ]
     },
     "execution_count": 17,
     "metadata": {},
     "output_type": "execute_result"
    }
   ],
   "source": [
    "angle(x,y)"
   ]
  },
  {
   "cell_type": "markdown",
   "id": "80c489ef",
   "metadata": {},
   "source": [
    "---"
   ]
  },
  {
   "cell_type": "markdown",
   "id": "a03e4dbf",
   "metadata": {},
   "source": [
    "# 벡터의 내적\n",
    "\n",
    "- 내적은 정사영(orthogonal projection)된 벡터의 길이와 관련 있다.\n",
    "\n",
    "- Proj(x) 의 길이는 코사인법칙에 의해 ∥x∥ cos θ 가 된다.\n",
    "\n",
    "- 내적은 정사영의 길이를 벡터 y 의 길이 ∥y∥만큼 조정한 값이다.\n",
    "\n",
    "- 내적은 두 벡터의 유사도(similarity)를 측정하는데 사용 가능하다.\n"
   ]
  },
  {
   "cell_type": "markdown",
   "id": "f5ff33fd",
   "metadata": {},
   "source": [
    "---"
   ]
  },
  {
   "cell_type": "markdown",
   "id": "fc859a24",
   "metadata": {},
   "source": [
    "\n",
    "## 두 벡터 사이의 거리 (Euclidean Distance)\n",
    "\n",
    "두 벡터 A = (3, 4)와 B = (0, 0)의 거리를 계산해보겠습니다.\n",
    "\n",
    "거리(A, B) = ||A - B|| = sqrt((3 - 0)^2 + (4 - 0)^2) = sqrt(9 + 16) = sqrt(25) = 5\n",
    "\n",
    "따라서 벡터 A와 B 사이의 거리는 5입니다.\n",
    "\n",
    "## 두 벡터 사이의 각도 (Angle Between Two Vectors)\n",
    "\n",
    "두 벡터 A = (1, 2)와 B = (3, 1) 사이의 각도를 계산해보겠습니다.\n",
    "\n",
    "먼저, A와 B의 내적을 계산합니다.\n",
    "\n",
    "$A · B = (1 * 3) + (2 * 1) = 3 + 2 = 5$\n",
    "\n",
    "그리고 A와 B의 크기를 계산합니다.\n",
    "\n",
    "$||A|| = sqrt(1^2 + 2^2) = sqrt(1 + 4) = sqrt(5)$\n",
    "\n",
    "$||B|| = sqrt(3^2 + 1^2) = sqrt(9 + 1) = sqrt(10)$\n",
    "\n",
    "각도 θ를 구하기 위해 다음 공식을 사용합니다.\n",
    "\n",
    "$cos(θ) = (A · B) / (||A|| * ||B||)$\n",
    "\n",
    "$cos(θ) = 5 / (sqrt(5) * sqrt(10))$\n",
    "\n",
    "$cos(θ) = 5 / (sqrt(5) * sqrt(10)) = 5 / (sqrt(50)) = sqrt(50) / 10$\n",
    "\n",
    "이제 역코사인을 사용하여 각도 θ를 찾습니다.\n",
    "\n",
    "$θ = acos(sqrt(50) / 10)$\n",
    "\n",
    "약 1.107 라디안 또는 약 63.43도입니다.\n",
    "\n",
    "## 제 2 코사인 법칙 (Law of Cosines)\n",
    "\n",
    "이번에는 벡터 A = (1, 2)와 B = (3, 1)의 거리를 제 2 코사인 법칙을 사용하여 계산해보겠습니다. 위에서 내적과 크기는 이미 계산했습니다.\n",
    "\n",
    "$||A - B||^2 = ||A||^2 + ||B||^2 - 2 * ||A|| * ||B|| * cos(θ)$\n",
    "\n",
    "$||A - B||^2 = (sqrt(5))^2 + (sqrt(10))^2 - 2 * sqrt(5) * sqrt(10) * cos(θ)$\n",
    "\n",
    "$||A - B||^2 = 5 + 10 - 2 * sqrt(50) * cos(θ)$\n",
    "\n",
    "$||A - B||^2 = 15 - 10 * sqrt(2) * cos(θ)$\n",
    "\n",
    "따라서 두 벡터 A와 B 사이의 거리의 제곱은 15 - 10 * sqrt(2) * cos(θ)입니다.\n",
    "\n",
    "## 내적 (Dot Product)\n",
    "\n",
    "벡터 A = (2, 3)와 벡터 B = (4, 1)의 내적을 계산해보겠습니다.\n",
    "\n",
    "A · B = (2 * 4) + (3 * 1) = 8 + 3 = 11\n",
    "\n",
    "따라서 벡터 A와 B의 내적은 11입니다."
   ]
  },
  {
   "cell_type": "markdown",
   "id": "85b66fd3",
   "metadata": {},
   "source": []
  }
 ],
 "metadata": {
  "kernelspec": {
   "display_name": "Python 3 (ipykernel)",
   "language": "python",
   "name": "python3"
  },
  "language_info": {
   "codemirror_mode": {
    "name": "ipython",
    "version": 3
   },
   "file_extension": ".py",
   "mimetype": "text/x-python",
   "name": "python",
   "nbconvert_exporter": "python",
   "pygments_lexer": "ipython3",
   "version": "3.8.16"
  },
  "toc": {
   "base_numbering": 1,
   "nav_menu": {},
   "number_sections": true,
   "sideBar": true,
   "skip_h1_title": false,
   "title_cell": "Table of Contents",
   "title_sidebar": "Contents",
   "toc_cell": false,
   "toc_position": {},
   "toc_section_display": true,
   "toc_window_display": false
  },
  "varInspector": {
   "cols": {
    "lenName": 16,
    "lenType": 16,
    "lenVar": 40
   },
   "kernels_config": {
    "python": {
     "delete_cmd_postfix": "",
     "delete_cmd_prefix": "del ",
     "library": "var_list.py",
     "varRefreshCmd": "print(var_dic_list())"
    },
    "r": {
     "delete_cmd_postfix": ") ",
     "delete_cmd_prefix": "rm(",
     "library": "var_list.r",
     "varRefreshCmd": "cat(var_dic_list()) "
    }
   },
   "types_to_exclude": [
    "module",
    "function",
    "builtin_function_or_method",
    "instance",
    "_Feature"
   ],
   "window_display": false
  }
 },
 "nbformat": 4,
 "nbformat_minor": 5
}
