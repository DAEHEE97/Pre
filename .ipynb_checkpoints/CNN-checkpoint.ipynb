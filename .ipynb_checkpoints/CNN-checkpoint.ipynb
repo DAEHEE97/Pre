{
 "cells": [
  {
   "cell_type": "markdown",
   "id": "08ff7b95",
   "metadata": {},
   "source": []
  },
  {
   "cell_type": "markdown",
   "id": "116e3d11",
   "metadata": {},
   "source": [
    "---"
   ]
  },
  {
   "cell_type": "markdown",
   "id": "393c645f",
   "metadata": {},
   "source": [
    "- 지금까지 배운 다층신경망(MLP)은 각 뉴런들이 선형모델과 활성함수로 모 두 연결된 (fully connected) 구조였습니다\n",
    "\n",
    "- Convolution 연산은 이와 달리 커널(kernel)을, 입력 벡터 상에서 움직여가 면서 선형모델과 합성함수가 적용되는 구조입니다.\n",
    "\n",
    "- 모든 𝑖 에 대해 적용되는 커널은 𝐕 로 같고 커널의 사이즈만큼 𝐱 상에서 이동하면서 적용합니다 k : 커널 사이즈\n",
    "\n",
    "- 활성화 함수를 제외한 Convolution 연산도 선형변환에 속합니다"
   ]
  },
  {
   "cell_type": "markdown",
   "id": "50810777",
   "metadata": {},
   "source": [
    "- Convolution 연산의 수학적인 의미는 신호(signal)를 커널을 이용해 *국소 적으로 증폭 또는 감소시켜서 정보를 추출 또는 필터링하는 것*\n",
    "    - CNN 에서 사용하는 연산은 사실 convolution 이 아니고 cross-correlation 이라 부릅니다\n",
    "\n",
    "---"
   ]
  },
  {
   "cell_type": "markdown",
   "id": "ccd6e8fc",
   "metadata": {},
   "source": [
    "- 커널은 정의역 내에서 움직여도 변하지 않고(translation invariant) 주어진 신호에 국소적(local)으로 적용합니다.\n",
    "\n",
    "- Convolution 연산은 1차원뿐만 아니라 다양한 차원에서 계산 가능합니다"
   ]
  },
  {
   "cell_type": "markdown",
   "id": "ce75dc9e",
   "metadata": {},
   "source": [
    "---"
   ]
  },
  {
   "cell_type": "markdown",
   "id": "3587e7d6",
   "metadata": {},
   "source": [
    "-  2D-Conv 연산은 이와 달리 커널(kernel)을 입력벡터 상에서 움직여가면서 선형모델과 합성함수가 적용되는 구조입니다.\n",
    "\n",
    "- 입력 크기를 (𝐻, 𝑊), 커널 크기를 (𝐾!, 𝐾\"), 출력 크기를 (𝑂!, 𝑂\") 라 하면 출력 크기는 다음과 같이 계산합니다\n",
    "    - 가령 28x28 입력을 3x3 커널로 2D-Conv 연산을 하면 26x26 이 된다. 28 -3 +1, 28 -3 + 1\n",
    "    \n",
    "- 채널이 여러개인 2차원 입력의 경우 2차원 Convolution 을 채널 개수만큼 적용한다고 생각하면 됩니다\n",
    "    \n",
    "    - 3차원부터는 행렬이 아닌 텐서라 부릅니다\n",
    "    \n",
    "- 채널이 여러개인 경우 커널의 채널 수와 입력의 채널수가 같아야 합니다\n",
    "\n",
    "-  Convolution 연산은 커널이 모든 입력데이터에 공통으로 적용되기 때문에 역전파를 계산할 때도 convolution 연산이 나오게 됩니다\n",
    "\n",
    "- 역전파 단계에서 다시 커널을 통해 그레디언트가 전달된다"
   ]
  },
  {
   "cell_type": "markdown",
   "id": "a381ebfc",
   "metadata": {},
   "source": [
    "---"
   ]
  },
  {
   "cell_type": "markdown",
   "id": "e3f2afa4",
   "metadata": {},
   "source": [
    "다음 중 Convolution 의 Output size 를 구하는 수식으로 올바른 것은?\n",
    "\n",
    "( W : width , F : Filter , S : Stride )\n",
    "w - f \n",
    "\n",
    "\n",
    "- Convolutionalization을 진행하면 Fully connted Layer 와 달리 위치 정보나 Class에 대한 정보(즉, 2차원 정보)를 잃어버리지 않을 수 있게 된다.\n",
    "    - 출력 Feature map은 원본 이미지의 위치 정보를 내포할 수 있게 된다.\n",
    "\n",
    "- Fully connted Layer을 Convolution Layer로 바꾸었다.\n",
    "\n",
    "    - Dense Layer를 없애는 과정이다.\n",
    "\n",
    "\n",
    "- Convolution의 Output size를 구하는 수식은 (W-F) / S+1 입니다.\n",
    "\n",
    "- CNN 피처맵의 output 크기는 아래 수식으로 구할 수 있다.\n",
    "    -  \n",
    "    \n",
    "- Receptive field가 볼 수 있는 이미지 영역은 커지지만, 그만큼 상대적으로 파라미터가 많아진다.\n",
    "\n"
   ]
  },
  {
   "cell_type": "markdown",
   "id": "3cb97956",
   "metadata": {},
   "source": [
    "-  Overfitting이 발생한다면 훈련데이터를 추가하거나 더 작은 모델을 활용해볼 수 있다. \n",
    "\n",
    "- (Convolution 의 Output size 를 구하는 수식으로 올바른 것은?\n",
    "\n",
    "- ( W : width , F : Filter , S : Stride ) : W-F)/ S+1 \n",
    " \n",
    "- LSTM Gate의 종류에는 Input, Output, Forget 가 있습니다.\n",
    "    -  LSTM의 입력(Input) 게이트는 새로운 정보 중 어떤 것을 저장할 지 결정하며, LSTM의 망각(Forget) 게이트는 새로운 정보 중 어떤 부분을 버릴 지 말지 결정합니다.\n",
    "    \n",
    "    \n",
    "- Activation Function 에 대해 RNN은 Tanh를, LSTM은 Sigmoid와 Tanh 를 사용합니다.\n",
    "\n",
    "- 가능도(Likelihood) 란 어떤 값이 관측되었을 때, 이것이 어떤 확률 분포에서 왔을지에 대한 확률입니다.\n",
    "\n",
    "- GAN은 서로 다른 두 개의 네트워크를 적대적으로(adversarial) 학습시키며 실제 데이터와 비슷한 데이터를 생성(generative)해내는 모델입니다.\n",
    "\n",
    "예측한 값과 실제 정답값의 제곱을 이용해 데이터셋의 전체 Loss 를 구하는 코드로 알맞은 것은?\n",
    "\n",
    "d. cost = torch.mean((hypothesis - y_train) ** 2)\n",
    "\n",
    "\n",
    "-  sigmoid 함수\n",
    "a. 함수 값이 (0, 1) 사이이다.\n",
    "c. 매우 큰 값이 입력일 경우 함수 값은 1에 가까워지며, 매우 작은 값이면 0에 가까워진다.\n",
    "d. 중간 값은 1/2 을 가진다.\n",
    "미분 가능\n",
    "\n",
    "- softmax\n",
    "- 함수에 각각 입력된 값은 0~1 사이 값으로 출력된다.\n",
    "- softmax 출력의 총합은 1이다. 확률벡터니까\n",
    "- softmax 함수를 적용해도 입력 값의 대소 관계는 변하지 않는다.\n",
    "- softmax를 이용해 이진분류 모델을 구성할 수 있다.\n",
    "\n",
    "\n",
    "- RNN은 이전 순서의 잠재변수와 현재의 입력을 활용하여 모델링합니다. \n",
    "\n",
    "    - 따라서, 다음 순서의 잠재 변수 모델링을 위한 입력값으로 활용할 수 있습니다.\n",
    "    \n",
    "    - RNN의 기울기 소실 문제 해결을 위해 고안된 네트워크에는 LSTM, GRU 등이 있습니다.\n",
    "    \n",
    "    \n",
    "    I _ K + 2P\n",
    "    S. + 1\n",
    "    \n",
    "    32 * 32.  3*3 > \n",
    "    \n",
    "    10개의 3*3 필터로\n",
    "    \n",
    "    output size = 30 * 30 * 10\n",
    "\n",
    "\n",
    "(32 -3) + 2*P / s  + 1\n",
    "\n",
    "\n",
    "\n",
    "\n"
   ]
  }
 ],
 "metadata": {
  "kernelspec": {
   "display_name": "Python 3 (ipykernel)",
   "language": "python",
   "name": "python3"
  },
  "language_info": {
   "codemirror_mode": {
    "name": "ipython",
    "version": 3
   },
   "file_extension": ".py",
   "mimetype": "text/x-python",
   "name": "python",
   "nbconvert_exporter": "python",
   "pygments_lexer": "ipython3",
   "version": "3.8.16"
  },
  "toc": {
   "base_numbering": 1,
   "nav_menu": {},
   "number_sections": true,
   "sideBar": true,
   "skip_h1_title": false,
   "title_cell": "Table of Contents",
   "title_sidebar": "Contents",
   "toc_cell": false,
   "toc_position": {},
   "toc_section_display": true,
   "toc_window_display": false
  },
  "varInspector": {
   "cols": {
    "lenName": 16,
    "lenType": 16,
    "lenVar": 40
   },
   "kernels_config": {
    "python": {
     "delete_cmd_postfix": "",
     "delete_cmd_prefix": "del ",
     "library": "var_list.py",
     "varRefreshCmd": "print(var_dic_list())"
    },
    "r": {
     "delete_cmd_postfix": ") ",
     "delete_cmd_prefix": "rm(",
     "library": "var_list.r",
     "varRefreshCmd": "cat(var_dic_list()) "
    }
   },
   "types_to_exclude": [
    "module",
    "function",
    "builtin_function_or_method",
    "instance",
    "_Feature"
   ],
   "window_display": false
  }
 },
 "nbformat": 4,
 "nbformat_minor": 5
}
