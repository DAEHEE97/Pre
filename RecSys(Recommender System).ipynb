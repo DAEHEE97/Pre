{
 "cells": [
  {
   "cell_type": "markdown",
   "id": "4555ecfb",
   "metadata": {},
   "source": [
    "# RecSys(Recommender System)\n",
    "\n",
    "추천 시스템은 이전에는 정보 검색(information retrieval) 분야의 세부 분야로만 존재했지만, 현재는 많은 회사들이 주목하고 활용하는 기술 입니다. \n",
    "\n",
    "추천 시스템(Recommender System; RecSys)은 사용자 혹은 아이템의 정보 데이터를 바탕으로 사용자가 관심을 가질만한 맞춤화된 아이템, 콘텐츠, 정보를 추천하는 알고리즘입니다. \n",
    "\n",
    "간단하게는 통계를 기반으로 하여 유사한 아이템이나 인기도 기반의 아이템을 추천해 주기도 하고, 머신러닝이나 딥러닝 알고리즘을 통해 사용자의 선호도나 과거 이력들을 바탕으로 개인화된 추천을 해줄 수 있습니다.\n"
   ]
  },
  {
   "cell_type": "markdown",
   "id": "93d41792",
   "metadata": {},
   "source": [
    "---"
   ]
  },
  {
   "cell_type": "markdown",
   "id": "f4a57818",
   "metadata": {},
   "source": [
    "## 주요 추천 시스템 Task\n",
    "\n",
    "추천 시스템에는 다양한 형태의 추천이 존재하며 크게 추천을 4가지로 분류할 수 있습니다.\n",
    "\n",
    "1. 함께 구매한 아이템 추천 : 해당 아이템을 구매한 유저들이 함께 구매한 아이템을 추천합니다.\n",
    "\n",
    "2. 유사한 아이템 추천 : 아이템의 정보들을 임베딩(Embedding)하여, 전체 아이템 중 유사한 아이템을 추천합니다.\n",
    "\n",
    "3. 인기도 기반 아이템 추천 : 가장 많은 인터렉션이 발생한 아이템을 추천합니다.\n",
    "\n",
    "4. 개인화 추천 : 아이템, 유저, 그리고 상호작용 데이터를 가지고 크게는 4가지 형태로 딥러닝 모델을 통해 개인화된 추천 결과를 제공합니다.\n",
    "\n",
    "\n",
    "\n",
    "- General Recommendation : BPR , ItemKNN, ConvNCF, NGCF , RecVAE …\n",
    "\n",
    "- Sequential Recommendation : RepeatNet, GRU4Rec, SASRecF, BERT4Rec, FDSA …\n",
    "\n",
    "- Context-Aware Recommendation : WideDeep, DeepFM, FFM, AutoInt, PNN,FM …\n",
    "\n",
    "- Knowledge-Aware Recommendation : CKE, CFKG, RippleNet, KGAT …\n"
   ]
  },
  {
   "cell_type": "markdown",
   "id": "c3b8f9f1",
   "metadata": {},
   "source": [
    "---"
   ]
  },
  {
   "cell_type": "markdown",
   "id": "76216119",
   "metadata": {},
   "source": [
    "\n",
    "## 최근 동향\n",
    "\n",
    "최근 패션 이커머스(e-commerce) 플랫폼 업계에서는 이른바 ‘패션 테크'가 주목받고 있는데요. \n",
    "\n",
    "이커머스에 추천 시스템이 결합되는 경우, 고객들의 웹 로그, 구매 이력, 관심 상품, 그리고 제품에 대한 정보 등 풍부한 데이터를 바탕으로 고객 개개인 별 취향과 선호 제품을 분석합니다. \n",
    "\n",
    "분석 결과를 토대로 고객을 '취향 저격' 하는 이른바 '초개인화' 된 상품을 가장 먼저 추천하게 됩니다. \n",
    "\n",
    "‘잘 추천이 되었는지' 점검하기 위해 상품에 대한 클릭률이나 조회 수, 그리고 매출 관련 거래 전환율(conversion rate)을 지표로서 점검하게 됩니다.\n",
    "\n",
    "또한 코로나 팬데믹 이후 온라인 교육이 확산되며 교육계에서는 기술과 교육을 접목시킨 ‘에듀테크(EduTech)’에 대한 주목도가 높아졌는데요. \n",
    "\n",
    "그중에서도 최근 교육 분야에서는 학습자 개개인에게 맞춤화된 '초개인화' 교육을 실현하기 위한 지식 추적 AI 기술, DKT(Digital Knowledge Tracing; DKT) 기술이 각광받고 있습니다. \n",
    "\n",
    "온라인 환경에서 수집되는 학습자에 대한 각종 정보, 과거 학습 이력 및 결과 등을 바탕으로 학습자의 현재 지식수준 및 이해도를 측정하고, 학습 성과를 높이는 데 도움이 되는 유익한 학습 콘텐츠를 추천할 수 있게 됩니다. \n",
    "\n",
    "이를 통해 '맞춤형 학습(adaptive learning)'이 가능해져 학습자의 적성과 수준에 맞는 알찬 학습을 제공하게 됩니다.\n",
    "\n",
    "\n"
   ]
  },
  {
   "cell_type": "markdown",
   "id": "1f5a77c2",
   "metadata": {},
   "source": [
    "---"
   ]
  },
  {
   "cell_type": "markdown",
   "id": "bafe2190",
   "metadata": {},
   "source": [
    "\n",
    "\n",
    "## AI_RecSys 엔지니어\n",
    "\n",
    "AI 또는 RecSys 엔지니어는 모델의 성능을 높이기 위해 실험을 하기도 하지만, 모델을 코드로 구현하고 돌아가도록 하는 것에 집중합니다. RecSys 엔지니어는 새로운 모델을 개발하지 않더라도 기본적인 general한 모델부터 sequential recommend, context-aware recommend 등 여러 가지 모델을 이해하고 동작하도록 코드를 작성할 수 있어야 합니다. 부스트캠프 RecSys 도메인을 수료하시게 되면 이론적 기초와 모델의 성능을 높이는 방법, 그리고 모델을 서빙하는 방법까지 수행하실 수 있는 AI 엔지니어로 성장하실 수 있습니다.\n"
   ]
  },
  {
   "cell_type": "markdown",
   "id": "98f5409e",
   "metadata": {},
   "source": [
    "---"
   ]
  },
  {
   "cell_type": "markdown",
   "id": "4ac1a2c3",
   "metadata": {},
   "source": [
    "## AI_RecSys 리서쳐\n",
    "\n",
    "AI 또는 RecSys 리서쳐는 엔지니어링 20%, 모델링 80% 비율로 주로 논문을 리서치하거나 모델을 고도화하기 위한 실험을 설계합니다. 또한 최신 트렌드에 맞는 연구를 팔로업하고, 사내 모델에 적용할 수 있도록 연구를 진행합니다. 따라서 추천 시스템의 전반적인 방법론을 학습하고, 핵심 및 최신 모델에 대한 심도 있는 이론적인 이해도를 쌓을 수 있는 부스트캠프 AI Tech에서 탄탄한 기반을 다질 수 있습니다.\n",
    "\n"
   ]
  }
 ],
 "metadata": {
  "kernelspec": {
   "display_name": "Python 3 (ipykernel)",
   "language": "python",
   "name": "python3"
  },
  "language_info": {
   "codemirror_mode": {
    "name": "ipython",
    "version": 3
   },
   "file_extension": ".py",
   "mimetype": "text/x-python",
   "name": "python",
   "nbconvert_exporter": "python",
   "pygments_lexer": "ipython3",
   "version": "3.10.9"
  },
  "toc": {
   "base_numbering": 1,
   "nav_menu": {},
   "number_sections": true,
   "sideBar": true,
   "skip_h1_title": false,
   "title_cell": "Table of Contents",
   "title_sidebar": "Contents",
   "toc_cell": false,
   "toc_position": {},
   "toc_section_display": true,
   "toc_window_display": false
  },
  "varInspector": {
   "cols": {
    "lenName": 16,
    "lenType": 16,
    "lenVar": 40
   },
   "kernels_config": {
    "python": {
     "delete_cmd_postfix": "",
     "delete_cmd_prefix": "del ",
     "library": "var_list.py",
     "varRefreshCmd": "print(var_dic_list())"
    },
    "r": {
     "delete_cmd_postfix": ") ",
     "delete_cmd_prefix": "rm(",
     "library": "var_list.r",
     "varRefreshCmd": "cat(var_dic_list()) "
    }
   },
   "types_to_exclude": [
    "module",
    "function",
    "builtin_function_or_method",
    "instance",
    "_Feature"
   ],
   "window_display": false
  }
 },
 "nbformat": 4,
 "nbformat_minor": 5
}
